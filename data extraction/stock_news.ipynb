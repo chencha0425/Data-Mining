{
 "cells": [
  {
   "cell_type": "code",
   "execution_count": 28,
   "metadata": {},
   "outputs": [],
   "source": [
    "from bs4 import BeautifulSoup\n",
    "import requests\n",
    "import pandas as pd"
   ]
  },
  {
   "cell_type": "code",
   "execution_count": 29,
   "metadata": {},
   "outputs": [
    {
     "data": {
      "text/plain": [
       "<Response [200]>"
      ]
     },
     "execution_count": 29,
     "metadata": {},
     "output_type": "execute_result"
    }
   ],
   "source": [
    "page = requests.get(\"https://www.klsescreener.com/v2/news\")\n",
    "page"
   ]
  },
  {
   "cell_type": "code",
   "execution_count": 30,
   "metadata": {},
   "outputs": [
    {
     "name": "stdout",
     "output_type": "stream",
     "text": [
      "<div class=\"article flex-1\">\n",
      "<div class=\"item-title\"><h2 class=\"figcaption\"><a href=\"/v2/news/view/583826/%E8%8B%B9%E6%9E%9C%E8%BF%AA%E5%A3%AB%E5%B0%BC%E4%BD%8E%E6%9C%88%E8%B4%B9%E6%8A%A2%E6%94%BB-netflix-8%E5%B9%B4%E9%A6%96%E6%B5%81%E5%A4%B1%E8%AE%A2%E6%88%B7\" target=\"_blank\">苹果迪士尼低月费抢攻 Netflix 8年首流失订户</a></h2></div>\n",
      "<div>（华盛顿29日讯）串流媒体（stream media）的竞争趋激烈，苹果和迪士尼将在11月加入战团，令投资者忧虑Netflix（网飞）的订户增长，为Netfli...</div>\n",
      "<div class=\"item-title-secondary subtitle\"><span>Nanyang</span><span data-date=\"2019-09-29 12:30:09\">29 Sep, 2019 12:30pm - <span class=\"moment-date\" data-date=\"2019-09-29T12:30:09+08:00\">2 hours ago</span></span></div>\n",
      "</div>\n",
      "<div class=\"article flex-1\">\n",
      " <div class=\"item-title\">\n",
      "  <h2 class=\"figcaption\">\n",
      "   <a href=\"/v2/news/view/583826/%E8%8B%B9%E6%9E%9C%E8%BF%AA%E5%A3%AB%E5%B0%BC%E4%BD%8E%E6%9C%88%E8%B4%B9%E6%8A%A2%E6%94%BB-netflix-8%E5%B9%B4%E9%A6%96%E6%B5%81%E5%A4%B1%E8%AE%A2%E6%88%B7\" target=\"_blank\">\n",
      "    苹果迪士尼低月费抢攻 Netflix 8年首流失订户\n",
      "   </a>\n",
      "  </h2>\n",
      " </div>\n",
      " <div>\n",
      "  （华盛顿29日讯）串流媒体（stream media）的竞争趋激烈，苹果和迪士尼将在11月加入战团，令投资者忧虑Netflix（网飞）的订户增长，为Netfli...\n",
      " </div>\n",
      " <div class=\"item-title-secondary subtitle\">\n",
      "  <span>\n",
      "   Nanyang\n",
      "  </span>\n",
      "  <span data-date=\"2019-09-29 12:30:09\">\n",
      "   29 Sep, 2019 12:30pm -\n",
      "   <span class=\"moment-date\" data-date=\"2019-09-29T12:30:09+08:00\">\n",
      "    2 hours ago\n",
      "   </span>\n",
      "  </span>\n",
      " </div>\n",
      "</div>\n",
      "\n"
     ]
    }
   ],
   "source": [
    "soup = BeautifulSoup(page.content, 'html.parser')\n",
    "whole = soup.find('div',id=\"section\")\n",
    "Par_News = whole.find_all(class_=\"article flex-1\")\n",
    "News = Par_News[0]\n",
    "print(News)\n",
    "print(News.prettify())\n"
   ]
  },
  {
   "cell_type": "code",
   "execution_count": 31,
   "metadata": {},
   "outputs": [
    {
     "name": "stdout",
     "output_type": "stream",
     "text": [
      "苹果迪士尼低月费抢攻 Netflix 8年首流失订户\n",
      "Nanyang29 Sep, 2019 12:30pm - 2 hours ago\n"
     ]
    }
   ],
   "source": [
    "Title = whole.find(class_=\"figcaption\").get_text()\n",
    "Newspaper_Date = whole.find(class_=\"item-title-secondary subtitle\").get_text()\n",
    "print(Title)\n",
    "print(Newspaper_Date)\n"
   ]
  },
  {
   "cell_type": "code",
   "execution_count": 32,
   "metadata": {},
   "outputs": [
    {
     "name": "stdout",
     "output_type": "stream",
     "text": [
      "['苹果迪士尼低月费抢攻 Netflix 8年首流失订户', 'My Say: Taking the Southeast Asian night market experience to Europe’s online shoppers', 'TheWall: Investing: US has upper hand in tech space', 'My Say: Are Malaysia’s businesses prepared for a downturn?', 'Malaysia, Singapore extend RTS Link decision deadline to Oct 31', '【独家】供过于求 竞相削价 钢铁业年亏上亿', '【杰青时代】直销行业大放异彩', '消费者支出低期 美经济8月降温', '马印央行强化货币金融合作', '公务文员职总盼调整 所得税减免提高至1.8万', '应对脱欧不确定影响 鹰派官员:英国或降息', '周六授招理财知识 3专家教您突破“穷局”', '林宽城:应付生活成本压力 政府应减税刺激消费', '若政府无视非法外劳 中小企业家协会:自己捉', '林宽城:免徒劳无功 中小企应先了解工业4.0', '王建民:未来10年前进基础 年杪推出新钢铁政策', '吉星次季少赚11%', '杨美盈:惠及13州2直区 平分45套太阳能板', '新合约陆续有来 威铖净利增长可期', '若成事路费降20% RRJ 30亿献购南北大道']\n",
      "['Nanyang29 Sep, 2019 12:30pm - 2 hours ago', 'TheEdge29 Sep, 2019 12:00pm - 3 hours ago', 'TheEdge29 Sep, 2019 11:30am - 3 hours ago', 'TheEdge29 Sep, 2019 11:30am - 3 hours ago', 'TheEdge29 Sep, 2019 11:25am - 3 hours ago', 'Nanyang29 Sep, 2019 09:12am - 5 hours ago', 'Nanyang29 Sep, 2019 00:35am - 14 hours ago', 'Nanyang29 Sep, 2019 00:20am - 14 hours ago', 'Nanyang29 Sep, 2019 00:15am - 14 hours ago', 'Nanyang29 Sep, 2019 00:10am - 15 hours ago', 'Nanyang29 Sep, 2019 00:10am - 15 hours ago', 'Nanyang29 Sep, 2019 00:06am - 15 hours ago', 'Nanyang29 Sep, 2019 00:06am - 15 hours ago', 'Nanyang29 Sep, 2019 00:06am - 15 hours ago', 'Nanyang29 Sep, 2019 00:06am - 15 hours ago', 'Nanyang29 Sep, 2019 00:06am - 15 hours ago', 'Nanyang29 Sep, 2019 00:06am - 15 hours ago', 'Nanyang28 Sep, 2019 23:16pm - 15 hours ago', 'Nanyang28 Sep, 2019 22:40pm - 16 hours ago', 'Nanyang28 Sep, 2019 22:20pm - 16 hours ago']\n"
     ]
    }
   ],
   "source": [
    "News_Title = whole.find_all(class_=\"figcaption\")\n",
    "News = [nw.get_text() for nw in News_Title]\n",
    "Newspaper= whole.find_all(class_=\"item-title-secondary subtitle\")\n",
    "Newspaper_Date = [nw.get_text() for nw in Newspaper]\n",
    "print(News)\n",
    "print(Newspaper_Date)"
   ]
  },
  {
   "cell_type": "code",
   "execution_count": 33,
   "metadata": {
    "scrolled": true
   },
   "outputs": [
    {
     "data": {
      "text/html": [
       "<div>\n",
       "<style scoped>\n",
       "    .dataframe tbody tr th:only-of-type {\n",
       "        vertical-align: middle;\n",
       "    }\n",
       "\n",
       "    .dataframe tbody tr th {\n",
       "        vertical-align: top;\n",
       "    }\n",
       "\n",
       "    .dataframe thead th {\n",
       "        text-align: right;\n",
       "    }\n",
       "</style>\n",
       "<table border=\"1\" class=\"dataframe\">\n",
       "  <thead>\n",
       "    <tr style=\"text-align: right;\">\n",
       "      <th></th>\n",
       "      <th>Newspaper_Date</th>\n",
       "      <th>News</th>\n",
       "    </tr>\n",
       "  </thead>\n",
       "  <tbody>\n",
       "    <tr>\n",
       "      <th>0</th>\n",
       "      <td>Nanyang29 Sep, 2019 12:30pm - 2 hours ago</td>\n",
       "      <td>苹果迪士尼低月费抢攻 Netflix 8年首流失订户</td>\n",
       "    </tr>\n",
       "    <tr>\n",
       "      <th>1</th>\n",
       "      <td>TheEdge29 Sep, 2019 12:00pm - 3 hours ago</td>\n",
       "      <td>My Say: Taking the Southeast Asian night marke...</td>\n",
       "    </tr>\n",
       "    <tr>\n",
       "      <th>2</th>\n",
       "      <td>TheEdge29 Sep, 2019 11:30am - 3 hours ago</td>\n",
       "      <td>TheWall: Investing: US has upper hand in tech ...</td>\n",
       "    </tr>\n",
       "    <tr>\n",
       "      <th>3</th>\n",
       "      <td>TheEdge29 Sep, 2019 11:30am - 3 hours ago</td>\n",
       "      <td>My Say: Are Malaysia’s businesses prepared for...</td>\n",
       "    </tr>\n",
       "    <tr>\n",
       "      <th>4</th>\n",
       "      <td>TheEdge29 Sep, 2019 11:25am - 3 hours ago</td>\n",
       "      <td>Malaysia, Singapore extend RTS Link decision d...</td>\n",
       "    </tr>\n",
       "    <tr>\n",
       "      <th>5</th>\n",
       "      <td>Nanyang29 Sep, 2019 09:12am - 5 hours ago</td>\n",
       "      <td>【独家】供过于求 竞相削价 钢铁业年亏上亿</td>\n",
       "    </tr>\n",
       "    <tr>\n",
       "      <th>6</th>\n",
       "      <td>Nanyang29 Sep, 2019 00:35am - 14 hours ago</td>\n",
       "      <td>【杰青时代】直销行业大放异彩</td>\n",
       "    </tr>\n",
       "    <tr>\n",
       "      <th>7</th>\n",
       "      <td>Nanyang29 Sep, 2019 00:20am - 14 hours ago</td>\n",
       "      <td>消费者支出低期 美经济8月降温</td>\n",
       "    </tr>\n",
       "    <tr>\n",
       "      <th>8</th>\n",
       "      <td>Nanyang29 Sep, 2019 00:15am - 14 hours ago</td>\n",
       "      <td>马印央行强化货币金融合作</td>\n",
       "    </tr>\n",
       "    <tr>\n",
       "      <th>9</th>\n",
       "      <td>Nanyang29 Sep, 2019 00:10am - 15 hours ago</td>\n",
       "      <td>公务文员职总盼调整 所得税减免提高至1.8万</td>\n",
       "    </tr>\n",
       "    <tr>\n",
       "      <th>10</th>\n",
       "      <td>Nanyang29 Sep, 2019 00:10am - 15 hours ago</td>\n",
       "      <td>应对脱欧不确定影响 鹰派官员:英国或降息</td>\n",
       "    </tr>\n",
       "    <tr>\n",
       "      <th>11</th>\n",
       "      <td>Nanyang29 Sep, 2019 00:06am - 15 hours ago</td>\n",
       "      <td>周六授招理财知识 3专家教您突破“穷局”</td>\n",
       "    </tr>\n",
       "    <tr>\n",
       "      <th>12</th>\n",
       "      <td>Nanyang29 Sep, 2019 00:06am - 15 hours ago</td>\n",
       "      <td>林宽城:应付生活成本压力 政府应减税刺激消费</td>\n",
       "    </tr>\n",
       "    <tr>\n",
       "      <th>13</th>\n",
       "      <td>Nanyang29 Sep, 2019 00:06am - 15 hours ago</td>\n",
       "      <td>若政府无视非法外劳 中小企业家协会:自己捉</td>\n",
       "    </tr>\n",
       "    <tr>\n",
       "      <th>14</th>\n",
       "      <td>Nanyang29 Sep, 2019 00:06am - 15 hours ago</td>\n",
       "      <td>林宽城:免徒劳无功 中小企应先了解工业4.0</td>\n",
       "    </tr>\n",
       "    <tr>\n",
       "      <th>15</th>\n",
       "      <td>Nanyang29 Sep, 2019 00:06am - 15 hours ago</td>\n",
       "      <td>王建民:未来10年前进基础 年杪推出新钢铁政策</td>\n",
       "    </tr>\n",
       "    <tr>\n",
       "      <th>16</th>\n",
       "      <td>Nanyang29 Sep, 2019 00:06am - 15 hours ago</td>\n",
       "      <td>吉星次季少赚11%</td>\n",
       "    </tr>\n",
       "    <tr>\n",
       "      <th>17</th>\n",
       "      <td>Nanyang28 Sep, 2019 23:16pm - 15 hours ago</td>\n",
       "      <td>杨美盈:惠及13州2直区 平分45套太阳能板</td>\n",
       "    </tr>\n",
       "    <tr>\n",
       "      <th>18</th>\n",
       "      <td>Nanyang28 Sep, 2019 22:40pm - 16 hours ago</td>\n",
       "      <td>新合约陆续有来 威铖净利增长可期</td>\n",
       "    </tr>\n",
       "    <tr>\n",
       "      <th>19</th>\n",
       "      <td>Nanyang28 Sep, 2019 22:20pm - 16 hours ago</td>\n",
       "      <td>若成事路费降20% RRJ 30亿献购南北大道</td>\n",
       "    </tr>\n",
       "  </tbody>\n",
       "</table>\n",
       "</div>"
      ],
      "text/plain": [
       "                                Newspaper_Date  \\\n",
       "0    Nanyang29 Sep, 2019 12:30pm - 2 hours ago   \n",
       "1    TheEdge29 Sep, 2019 12:00pm - 3 hours ago   \n",
       "2    TheEdge29 Sep, 2019 11:30am - 3 hours ago   \n",
       "3    TheEdge29 Sep, 2019 11:30am - 3 hours ago   \n",
       "4    TheEdge29 Sep, 2019 11:25am - 3 hours ago   \n",
       "5    Nanyang29 Sep, 2019 09:12am - 5 hours ago   \n",
       "6   Nanyang29 Sep, 2019 00:35am - 14 hours ago   \n",
       "7   Nanyang29 Sep, 2019 00:20am - 14 hours ago   \n",
       "8   Nanyang29 Sep, 2019 00:15am - 14 hours ago   \n",
       "9   Nanyang29 Sep, 2019 00:10am - 15 hours ago   \n",
       "10  Nanyang29 Sep, 2019 00:10am - 15 hours ago   \n",
       "11  Nanyang29 Sep, 2019 00:06am - 15 hours ago   \n",
       "12  Nanyang29 Sep, 2019 00:06am - 15 hours ago   \n",
       "13  Nanyang29 Sep, 2019 00:06am - 15 hours ago   \n",
       "14  Nanyang29 Sep, 2019 00:06am - 15 hours ago   \n",
       "15  Nanyang29 Sep, 2019 00:06am - 15 hours ago   \n",
       "16  Nanyang29 Sep, 2019 00:06am - 15 hours ago   \n",
       "17  Nanyang28 Sep, 2019 23:16pm - 15 hours ago   \n",
       "18  Nanyang28 Sep, 2019 22:40pm - 16 hours ago   \n",
       "19  Nanyang28 Sep, 2019 22:20pm - 16 hours ago   \n",
       "\n",
       "                                                 News  \n",
       "0                          苹果迪士尼低月费抢攻 Netflix 8年首流失订户  \n",
       "1   My Say: Taking the Southeast Asian night marke...  \n",
       "2   TheWall: Investing: US has upper hand in tech ...  \n",
       "3   My Say: Are Malaysia’s businesses prepared for...  \n",
       "4   Malaysia, Singapore extend RTS Link decision d...  \n",
       "5                               【独家】供过于求 竞相削价 钢铁业年亏上亿  \n",
       "6                                      【杰青时代】直销行业大放异彩  \n",
       "7                                     消费者支出低期 美经济8月降温  \n",
       "8                                        马印央行强化货币金融合作  \n",
       "9                              公务文员职总盼调整 所得税减免提高至1.8万  \n",
       "10                               应对脱欧不确定影响 鹰派官员:英国或降息  \n",
       "11                               周六授招理财知识 3专家教您突破“穷局”  \n",
       "12                             林宽城:应付生活成本压力 政府应减税刺激消费  \n",
       "13                              若政府无视非法外劳 中小企业家协会:自己捉  \n",
       "14                             林宽城:免徒劳无功 中小企应先了解工业4.0  \n",
       "15                            王建民:未来10年前进基础 年杪推出新钢铁政策  \n",
       "16                                          吉星次季少赚11%  \n",
       "17                             杨美盈:惠及13州2直区 平分45套太阳能板  \n",
       "18                                   新合约陆续有来 威铖净利增长可期  \n",
       "19                            若成事路费降20% RRJ 30亿献购南北大道  "
      ]
     },
     "execution_count": 33,
     "metadata": {},
     "output_type": "execute_result"
    }
   ],
   "source": [
    "Stock_News = pd.DataFrame({\n",
    "    \"Newspaper_Date\": Newspaper_Date,\n",
    "    \"News\": News,\n",
    "})\n",
    "Stock_News"
   ]
  },
  {
   "cell_type": "code",
   "execution_count": 27,
   "metadata": {},
   "outputs": [],
   "source": [
    "Stock_News.to_csv('Stock News.csv', index=False)"
   ]
  },
  {
   "cell_type": "code",
   "execution_count": null,
   "metadata": {},
   "outputs": [],
   "source": []
  }
 ],
 "metadata": {
  "kernelspec": {
   "display_name": "Python 3",
   "language": "python",
   "name": "python3"
  },
  "language_info": {
   "codemirror_mode": {
    "name": "ipython",
    "version": 3
   },
   "file_extension": ".py",
   "mimetype": "text/x-python",
   "name": "python",
   "nbconvert_exporter": "python",
   "pygments_lexer": "ipython3",
   "version": "3.7.1"
  }
 },
 "nbformat": 4,
 "nbformat_minor": 2
}
