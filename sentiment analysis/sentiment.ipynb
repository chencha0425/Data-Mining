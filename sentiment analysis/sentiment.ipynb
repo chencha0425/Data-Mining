{
 "cells": [
  {
   "cell_type": "code",
   "execution_count": 66,
   "metadata": {},
   "outputs": [
    {
     "name": "stderr",
     "output_type": "stream",
     "text": [
      "[nltk_data] Downloading package vader_lexicon to\n",
      "[nltk_data]     C:\\Users\\USER\\AppData\\Roaming\\nltk_data...\n",
      "[nltk_data]   Package vader_lexicon is already up-to-date!\n"
     ]
    }
   ],
   "source": [
    "import pandas as pd\n",
    "import nltk\n",
    "import pprint\n",
    "import matplotlib.pyplot as plt\n",
    "import seaborn as sns\n",
    "nltk.download('vader_lexicon')\n",
    "from nltk.sentiment.vader import SentimentIntensityAnalyzer as SIA"
   ]
  },
  {
   "cell_type": "markdown",
   "metadata": {},
   "source": [
    "# Hong Leong Bank sentiment"
   ]
  },
  {
   "cell_type": "code",
   "execution_count": 84,
   "metadata": {},
   "outputs": [
    {
     "data": {
      "text/html": [
       "<div>\n",
       "<style scoped>\n",
       "    .dataframe tbody tr th:only-of-type {\n",
       "        vertical-align: middle;\n",
       "    }\n",
       "\n",
       "    .dataframe tbody tr th {\n",
       "        vertical-align: top;\n",
       "    }\n",
       "\n",
       "    .dataframe thead th {\n",
       "        text-align: right;\n",
       "    }\n",
       "</style>\n",
       "<table border=\"1\" class=\"dataframe\">\n",
       "  <thead>\n",
       "    <tr style=\"text-align: right;\">\n",
       "      <th></th>\n",
       "      <th>code</th>\n",
       "      <th>date</th>\n",
       "      <th>news</th>\n",
       "      <th>company_code</th>\n",
       "    </tr>\n",
       "  </thead>\n",
       "  <tbody>\n",
       "    <tr>\n",
       "      <th>0</th>\n",
       "      <td>https://www.klsescreener.com/v2/news/stock/5819</td>\n",
       "      <td>TheEdge18 Dec, 2019 13:27pm - 8 hours ago</td>\n",
       "      <td>?????????????????? ??????????????????</td>\n",
       "      <td>5819</td>\n",
       "    </tr>\n",
       "    <tr>\n",
       "      <th>1</th>\n",
       "      <td>https://www.klsescreener.com/v2/news/stock/5819</td>\n",
       "      <td>TheEdge18 Dec, 2019 12:54pm - 8 hours ago</td>\n",
       "      <td>KLCI recovers on mild year-end window dressing</td>\n",
       "      <td>5819</td>\n",
       "    </tr>\n",
       "    <tr>\n",
       "      <th>2</th>\n",
       "      <td>https://www.klsescreener.com/v2/news/stock/5819</td>\n",
       "      <td>Sinchew18 Dec, 2019 12:46pm - 8 hours ago</td>\n",
       "      <td>?????????????????????????????????????2??????</td>\n",
       "      <td>5819</td>\n",
       "    </tr>\n",
       "    <tr>\n",
       "      <th>3</th>\n",
       "      <td>https://www.klsescreener.com/v2/news/stock/5819</td>\n",
       "      <td>TheEdge17 Dec, 2019 13:22pm - 1 day ago</td>\n",
       "      <td>????????????????? ????????????</td>\n",
       "      <td>5819</td>\n",
       "    </tr>\n",
       "    <tr>\n",
       "      <th>4</th>\n",
       "      <td>https://www.klsescreener.com/v2/news/stock/5819</td>\n",
       "      <td>TheEdge17 Dec, 2019 12:53pm - 1 day ago</td>\n",
       "      <td>KLCI drifts lower as technical indicators poin...</td>\n",
       "      <td>5819</td>\n",
       "    </tr>\n",
       "  </tbody>\n",
       "</table>\n",
       "</div>"
      ],
      "text/plain": [
       "                                              code  \\\n",
       "0  https://www.klsescreener.com/v2/news/stock/5819   \n",
       "1  https://www.klsescreener.com/v2/news/stock/5819   \n",
       "2  https://www.klsescreener.com/v2/news/stock/5819   \n",
       "3  https://www.klsescreener.com/v2/news/stock/5819   \n",
       "4  https://www.klsescreener.com/v2/news/stock/5819   \n",
       "\n",
       "                                        date  \\\n",
       "0  TheEdge18 Dec, 2019 13:27pm - 8 hours ago   \n",
       "1  TheEdge18 Dec, 2019 12:54pm - 8 hours ago   \n",
       "2  Sinchew18 Dec, 2019 12:46pm - 8 hours ago   \n",
       "3    TheEdge17 Dec, 2019 13:22pm - 1 day ago   \n",
       "4    TheEdge17 Dec, 2019 12:53pm - 1 day ago   \n",
       "\n",
       "                                                news  company_code  \n",
       "0              ?????????????????? ??????????????????          5819  \n",
       "1     KLCI recovers on mild year-end window dressing          5819  \n",
       "2      ?????????????????????????????????????2??????          5819  \n",
       "3                    ????????????????? ????????????          5819  \n",
       "4  KLCI drifts lower as technical indicators poin...          5819  "
      ]
     },
     "execution_count": 84,
     "metadata": {},
     "output_type": "execute_result"
    }
   ],
   "source": [
    "news2 = pd.read_csv('HLB_news.csv',encoding = 'unicode_escape')\n",
    "news2.head()"
   ]
  },
  {
   "cell_type": "code",
   "execution_count": 77,
   "metadata": {},
   "outputs": [],
   "source": [
    "sia = SIA()\n",
    "results = []\n",
    "\n",
    "for line in news2.news:\n",
    "    pol_score = sia.polarity_scores(line)\n",
    "    pol_score['news'] = line\n",
    "    results.append(pol_score)\n"
   ]
  },
  {
   "cell_type": "code",
   "execution_count": 78,
   "metadata": {},
   "outputs": [
    {
     "data": {
      "text/html": [
       "<div>\n",
       "<style scoped>\n",
       "    .dataframe tbody tr th:only-of-type {\n",
       "        vertical-align: middle;\n",
       "    }\n",
       "\n",
       "    .dataframe tbody tr th {\n",
       "        vertical-align: top;\n",
       "    }\n",
       "\n",
       "    .dataframe thead th {\n",
       "        text-align: right;\n",
       "    }\n",
       "</style>\n",
       "<table border=\"1\" class=\"dataframe\">\n",
       "  <thead>\n",
       "    <tr style=\"text-align: right;\">\n",
       "      <th></th>\n",
       "      <th>compound</th>\n",
       "      <th>neg</th>\n",
       "      <th>neu</th>\n",
       "      <th>news</th>\n",
       "      <th>pos</th>\n",
       "    </tr>\n",
       "  </thead>\n",
       "  <tbody>\n",
       "    <tr>\n",
       "      <th>0</th>\n",
       "      <td>0.000</td>\n",
       "      <td>0.000</td>\n",
       "      <td>1.000</td>\n",
       "      <td>?????????????????? ??????????????????</td>\n",
       "      <td>0.0</td>\n",
       "    </tr>\n",
       "    <tr>\n",
       "      <th>1</th>\n",
       "      <td>0.000</td>\n",
       "      <td>0.000</td>\n",
       "      <td>1.000</td>\n",
       "      <td>KLCI recovers on mild year-end window dressing</td>\n",
       "      <td>0.0</td>\n",
       "    </tr>\n",
       "    <tr>\n",
       "      <th>2</th>\n",
       "      <td>0.000</td>\n",
       "      <td>0.000</td>\n",
       "      <td>1.000</td>\n",
       "      <td>?????????????????????????????????????2??????</td>\n",
       "      <td>0.0</td>\n",
       "    </tr>\n",
       "    <tr>\n",
       "      <th>3</th>\n",
       "      <td>0.000</td>\n",
       "      <td>0.000</td>\n",
       "      <td>1.000</td>\n",
       "      <td>????????????????? ????????????</td>\n",
       "      <td>0.0</td>\n",
       "    </tr>\n",
       "    <tr>\n",
       "      <th>4</th>\n",
       "      <td>-0.296</td>\n",
       "      <td>0.239</td>\n",
       "      <td>0.761</td>\n",
       "      <td>KLCI drifts lower as technical indicators poin...</td>\n",
       "      <td>0.0</td>\n",
       "    </tr>\n",
       "  </tbody>\n",
       "</table>\n",
       "</div>"
      ],
      "text/plain": [
       "   compound    neg    neu                                               news  \\\n",
       "0     0.000  0.000  1.000              ?????????????????? ??????????????????   \n",
       "1     0.000  0.000  1.000     KLCI recovers on mild year-end window dressing   \n",
       "2     0.000  0.000  1.000      ?????????????????????????????????????2??????   \n",
       "3     0.000  0.000  1.000                    ????????????????? ????????????   \n",
       "4    -0.296  0.239  0.761  KLCI drifts lower as technical indicators poin...   \n",
       "\n",
       "   pos  \n",
       "0  0.0  \n",
       "1  0.0  \n",
       "2  0.0  \n",
       "3  0.0  \n",
       "4  0.0  "
      ]
     },
     "execution_count": 78,
     "metadata": {},
     "output_type": "execute_result"
    }
   ],
   "source": [
    "df2 = pd.DataFrame.from_records(results)\n",
    "df2.head()"
   ]
  },
  {
   "cell_type": "code",
   "execution_count": 79,
   "metadata": {},
   "outputs": [
    {
     "data": {
      "text/html": [
       "<div>\n",
       "<style scoped>\n",
       "    .dataframe tbody tr th:only-of-type {\n",
       "        vertical-align: middle;\n",
       "    }\n",
       "\n",
       "    .dataframe tbody tr th {\n",
       "        vertical-align: top;\n",
       "    }\n",
       "\n",
       "    .dataframe thead th {\n",
       "        text-align: right;\n",
       "    }\n",
       "</style>\n",
       "<table border=\"1\" class=\"dataframe\">\n",
       "  <thead>\n",
       "    <tr style=\"text-align: right;\">\n",
       "      <th></th>\n",
       "      <th>compound</th>\n",
       "      <th>neg</th>\n",
       "      <th>neu</th>\n",
       "      <th>news</th>\n",
       "      <th>pos</th>\n",
       "      <th>label</th>\n",
       "    </tr>\n",
       "  </thead>\n",
       "  <tbody>\n",
       "    <tr>\n",
       "      <th>0</th>\n",
       "      <td>0.000</td>\n",
       "      <td>0.000</td>\n",
       "      <td>1.000</td>\n",
       "      <td>?????????????????? ??????????????????</td>\n",
       "      <td>0.0</td>\n",
       "      <td>1</td>\n",
       "    </tr>\n",
       "    <tr>\n",
       "      <th>1</th>\n",
       "      <td>0.000</td>\n",
       "      <td>0.000</td>\n",
       "      <td>1.000</td>\n",
       "      <td>KLCI recovers on mild year-end window dressing</td>\n",
       "      <td>0.0</td>\n",
       "      <td>1</td>\n",
       "    </tr>\n",
       "    <tr>\n",
       "      <th>2</th>\n",
       "      <td>0.000</td>\n",
       "      <td>0.000</td>\n",
       "      <td>1.000</td>\n",
       "      <td>?????????????????????????????????????2??????</td>\n",
       "      <td>0.0</td>\n",
       "      <td>1</td>\n",
       "    </tr>\n",
       "    <tr>\n",
       "      <th>3</th>\n",
       "      <td>0.000</td>\n",
       "      <td>0.000</td>\n",
       "      <td>1.000</td>\n",
       "      <td>????????????????? ????????????</td>\n",
       "      <td>0.0</td>\n",
       "      <td>0</td>\n",
       "    </tr>\n",
       "    <tr>\n",
       "      <th>4</th>\n",
       "      <td>-0.296</td>\n",
       "      <td>0.239</td>\n",
       "      <td>0.761</td>\n",
       "      <td>KLCI drifts lower as technical indicators poin...</td>\n",
       "      <td>0.0</td>\n",
       "      <td>-1</td>\n",
       "    </tr>\n",
       "  </tbody>\n",
       "</table>\n",
       "</div>"
      ],
      "text/plain": [
       "   compound    neg    neu                                               news  \\\n",
       "0     0.000  0.000  1.000              ?????????????????? ??????????????????   \n",
       "1     0.000  0.000  1.000     KLCI recovers on mild year-end window dressing   \n",
       "2     0.000  0.000  1.000      ?????????????????????????????????????2??????   \n",
       "3     0.000  0.000  1.000                    ????????????????? ????????????   \n",
       "4    -0.296  0.239  0.761  KLCI drifts lower as technical indicators poin...   \n",
       "\n",
       "   pos  label  \n",
       "0  0.0      1  \n",
       "1  0.0      1  \n",
       "2  0.0      1  \n",
       "3  0.0      0  \n",
       "4  0.0     -1  "
      ]
     },
     "execution_count": 79,
     "metadata": {},
     "output_type": "execute_result"
    }
   ],
   "source": [
    "df2['label'] = 0\n",
    "df2.loc[df['compound'] > 0.05, 'label'] = 1\n",
    "df2.loc[df['compound'] < -0.05, 'label'] = -1\n",
    "df2.head()"
   ]
  },
  {
   "cell_type": "code",
   "execution_count": 80,
   "metadata": {},
   "outputs": [
    {
     "data": {
      "text/html": [
       "<div>\n",
       "<style scoped>\n",
       "    .dataframe tbody tr th:only-of-type {\n",
       "        vertical-align: middle;\n",
       "    }\n",
       "\n",
       "    .dataframe tbody tr th {\n",
       "        vertical-align: top;\n",
       "    }\n",
       "\n",
       "    .dataframe thead th {\n",
       "        text-align: right;\n",
       "    }\n",
       "</style>\n",
       "<table border=\"1\" class=\"dataframe\">\n",
       "  <thead>\n",
       "    <tr style=\"text-align: right;\">\n",
       "      <th></th>\n",
       "      <th>news</th>\n",
       "      <th>label</th>\n",
       "    </tr>\n",
       "  </thead>\n",
       "  <tbody>\n",
       "    <tr>\n",
       "      <th>0</th>\n",
       "      <td>?????????????????? ??????????????????</td>\n",
       "      <td>1</td>\n",
       "    </tr>\n",
       "    <tr>\n",
       "      <th>1</th>\n",
       "      <td>KLCI recovers on mild year-end window dressing</td>\n",
       "      <td>1</td>\n",
       "    </tr>\n",
       "    <tr>\n",
       "      <th>2</th>\n",
       "      <td>?????????????????????????????????????2??????</td>\n",
       "      <td>1</td>\n",
       "    </tr>\n",
       "    <tr>\n",
       "      <th>3</th>\n",
       "      <td>????????????????? ????????????</td>\n",
       "      <td>0</td>\n",
       "    </tr>\n",
       "    <tr>\n",
       "      <th>4</th>\n",
       "      <td>KLCI drifts lower as technical indicators poin...</td>\n",
       "      <td>-1</td>\n",
       "    </tr>\n",
       "  </tbody>\n",
       "</table>\n",
       "</div>"
      ],
      "text/plain": [
       "                                                news  label\n",
       "0              ?????????????????? ??????????????????      1\n",
       "1     KLCI recovers on mild year-end window dressing      1\n",
       "2      ?????????????????????????????????????2??????      1\n",
       "3                    ????????????????? ????????????      0\n",
       "4  KLCI drifts lower as technical indicators poin...     -1"
      ]
     },
     "execution_count": 80,
     "metadata": {},
     "output_type": "execute_result"
    }
   ],
   "source": [
    "df3 = df2[[ 'news', 'label']]\n",
    "df3.head()"
   ]
  },
  {
   "cell_type": "code",
   "execution_count": 81,
   "metadata": {},
   "outputs": [],
   "source": [
    "df3.to_csv('hlb_news_labels.csv', mode='a', encoding='utf-8', index=False)"
   ]
  },
  {
   "cell_type": "code",
   "execution_count": 82,
   "metadata": {},
   "outputs": [
    {
     "data": {
      "image/png": "[encoded data removed]",
      "text/plain": [
       "<Figure size 576x576 with 1 Axes>"
      ]
     },
     "metadata": {
      "needs_background": "light"
     },
     "output_type": "display_data"
    }
   ],
   "source": [
    "fig, ax = plt.subplots(figsize=(8, 8))\n",
    "\n",
    "counts = df2.label.value_counts(normalize=True) * 100\n",
    "\n",
    "sns.barplot(x=counts.index, y=counts, ax=ax)\n",
    "\n",
    "ax.set_xticklabels(['Negative', 'Neutral', 'Positive'])\n",
    "ax.set_ylabel(\"Percentage\")\n",
    "\n",
    "plt.show()"
   ]
  },
  {
   "cell_type": "code",
   "execution_count": null,
   "metadata": {},
   "outputs": [],
   "source": []
  }
 ],
 "metadata": {
  "kernelspec": {
   "display_name": "Python 3",
   "language": "python",
   "name": "python3"
  },
  "language_info": {
   "codemirror_mode": {
    "name": "ipython",
    "version": 3
   },
   "file_extension": ".py",
   "mimetype": "text/x-python",
   "name": "python",
   "nbconvert_exporter": "python",
   "pygments_lexer": "ipython3",
   "version": "3.7.1"
  }
 },
 "nbformat": 4,
 "nbformat_minor": 2
}
